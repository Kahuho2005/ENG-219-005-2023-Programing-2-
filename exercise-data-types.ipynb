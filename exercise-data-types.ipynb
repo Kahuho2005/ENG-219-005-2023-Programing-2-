{
 "cells": [
  {
   "cell_type": "markdown",
   "id": "d21db6f4",
   "metadata": {
    "papermill": {
     "duration": 0.005858,
     "end_time": "2025-02-25T20:51:57.821158",
     "exception": false,
     "start_time": "2025-02-25T20:51:57.815300",
     "status": "completed"
    },
    "tags": []
   },
   "source": [
    "**This notebook is an exercise in the [Intro to Programming](https://www.kaggle.com/learn/intro-to-programming) course.  You can reference the tutorial at [this link](https://www.kaggle.com/alexisbcook/data-types).**\n",
    "\n",
    "---\n"
   ]
  },
  {
   "cell_type": "markdown",
   "id": "0b25a098",
   "metadata": {
    "papermill": {
     "duration": 0.004643,
     "end_time": "2025-02-25T20:51:57.830841",
     "exception": false,
     "start_time": "2025-02-25T20:51:57.826198",
     "status": "completed"
    },
    "tags": []
   },
   "source": [
    "In the tutorial, you learned about four different data types: floats, integers, strings, and booleans.  In this exercise, you'll experiment with them.\n",
    "\n",
    "# Set up the notebook\n",
    "\n",
    "Run the next code cell without changes to set up the notebook."
   ]
  },
  {
   "cell_type": "code",
   "execution_count": 1,
   "id": "663089b9",
   "metadata": {
    "execution": {
     "iopub.execute_input": "2025-02-25T20:51:57.841929Z",
     "iopub.status.busy": "2025-02-25T20:51:57.841606Z",
     "iopub.status.idle": "2025-02-25T20:51:58.717212Z",
     "shell.execute_reply": "2025-02-25T20:51:58.716161Z"
    },
    "papermill": {
     "duration": 0.883156,
     "end_time": "2025-02-25T20:51:58.718774",
     "exception": false,
     "start_time": "2025-02-25T20:51:57.835618",
     "status": "completed"
    },
    "tags": []
   },
   "outputs": [
    {
     "name": "stdout",
     "output_type": "stream",
     "text": [
      "Setup complete.\n"
     ]
    }
   ],
   "source": [
    "# Set up the exercise\n",
    "from learntools.core import binder\n",
    "binder.bind(globals())\n",
    "from learntools.intro_to_programming.ex3 import *\n",
    "print('Setup complete.')"
   ]
  },
  {
   "cell_type": "markdown",
   "id": "d3209e14",
   "metadata": {
    "papermill": {
     "duration": 0.005187,
     "end_time": "2025-02-25T20:51:58.730744",
     "exception": false,
     "start_time": "2025-02-25T20:51:58.725557",
     "status": "completed"
    },
    "tags": []
   },
   "source": [
    "# Question 1\n",
    "\n",
    "You have seen how to convert a float to an integer with the `int` function.  Try this out yourself by running the code cell below."
   ]
  },
  {
   "cell_type": "code",
   "execution_count": 2,
   "id": "40e2ef91",
   "metadata": {
    "execution": {
     "iopub.execute_input": "2025-02-25T20:51:58.742096Z",
     "iopub.status.busy": "2025-02-25T20:51:58.741648Z",
     "iopub.status.idle": "2025-02-25T20:51:58.747234Z",
     "shell.execute_reply": "2025-02-25T20:51:58.746075Z"
    },
    "papermill": {
     "duration": 0.012954,
     "end_time": "2025-02-25T20:51:58.748685",
     "exception": false,
     "start_time": "2025-02-25T20:51:58.735731",
     "status": "completed"
    },
    "tags": []
   },
   "outputs": [
    {
     "name": "stdout",
     "output_type": "stream",
     "text": [
      "1.0\n",
      "<class 'float'>\n",
      "1\n",
      "<class 'int'>\n"
     ]
    }
   ],
   "source": [
    "# Define a float\n",
    "y = 1.\n",
    "print(y)\n",
    "print(type(y))\n",
    "\n",
    "# Convert float to integer with the int function\n",
    "z = int(y)\n",
    "print(z)\n",
    "print(type(z))"
   ]
  },
  {
   "cell_type": "markdown",
   "id": "7ba7b26c",
   "metadata": {
    "papermill": {
     "duration": 0.004879,
     "end_time": "2025-02-25T20:51:58.758695",
     "exception": false,
     "start_time": "2025-02-25T20:51:58.753816",
     "status": "completed"
    },
    "tags": []
   },
   "source": [
    "In this case, the float you are using has no numbers after the decimal.  \n",
    "- But what happens when you try to convert a float with a fractional part to an integer?  \n",
    "- How does the outcome of the `int` function change for positive and negative numbers?\n",
    "\n",
    "Use the next code cell to investigate and answer these questions.  Feel free to add or remove any lines of code -- it is your workspace!"
   ]
  },
  {
   "cell_type": "code",
   "execution_count": 3,
   "id": "4f967bbb",
   "metadata": {
    "execution": {
     "iopub.execute_input": "2025-02-25T20:51:58.770317Z",
     "iopub.status.busy": "2025-02-25T20:51:58.769910Z",
     "iopub.status.idle": "2025-02-25T20:51:58.773751Z",
     "shell.execute_reply": "2025-02-25T20:51:58.772708Z"
    },
    "papermill": {
     "duration": 0.011367,
     "end_time": "2025-02-25T20:51:58.775338",
     "exception": false,
     "start_time": "2025-02-25T20:51:58.763971",
     "status": "completed"
    },
    "tags": []
   },
   "outputs": [],
   "source": [
    "# Uncomment and run this code to get started!\n",
    "#print(int(1.2321))\n",
    "#print(int(1.747))\n",
    "#print(int(-3.94535))\n",
    "#print(int(-2.19774))"
   ]
  },
  {
   "cell_type": "markdown",
   "id": "9f034983",
   "metadata": {
    "papermill": {
     "duration": 0.004955,
     "end_time": "2025-02-25T20:51:58.785496",
     "exception": false,
     "start_time": "2025-02-25T20:51:58.780541",
     "status": "completed"
    },
    "tags": []
   },
   "source": [
    "Once you have an answer, run the code cell below to see the solution.  Viewing the solution will give you credit for answering the problem."
   ]
  },
  {
   "cell_type": "code",
   "execution_count": 4,
   "id": "b34f3513",
   "metadata": {
    "execution": {
     "iopub.execute_input": "2025-02-25T20:51:58.796944Z",
     "iopub.status.busy": "2025-02-25T20:51:58.796597Z",
     "iopub.status.idle": "2025-02-25T20:51:58.804163Z",
     "shell.execute_reply": "2025-02-25T20:51:58.803211Z"
    },
    "papermill": {
     "duration": 0.015232,
     "end_time": "2025-02-25T20:51:58.805771",
     "exception": false,
     "start_time": "2025-02-25T20:51:58.790539",
     "status": "completed"
    },
    "tags": []
   },
   "outputs": [
    {
     "data": {
      "application/javascript": [
       "parent.postMessage({\"jupyterEvent\": \"custom.exercise_interaction\", \"data\": {\"outcomeType\": 1, \"valueTowardsCompletion\": 0.2, \"interactionType\": 1, \"questionType\": 4, \"questionId\": \"1_FloatToInt\", \"learnToolsVersion\": \"0.3.4\", \"failureMessage\": \"\", \"exceptionClass\": \"\", \"trace\": \"\"}}, \"*\")"
      ],
      "text/plain": [
       "<IPython.core.display.Javascript object>"
      ]
     },
     "metadata": {},
     "output_type": "display_data"
    },
    {
     "data": {
      "text/markdown": [
       "<span style=\"color:#33cc33\">Correct:</span> \n",
       "\n",
       "Negative floats are always rounded UP to the closest integer (for instance, both -1.1 and -1.9 are rounded up to -1). Positive floats are always rounded DOWN to the closest integer (for instance, 2.1 and 2.9 are rounded down to 2)."
      ],
      "text/plain": [
       "Correct: \n",
       "\n",
       "Negative floats are always rounded UP to the closest integer (for instance, both -1.1 and -1.9 are rounded up to -1). Positive floats are always rounded DOWN to the closest integer (for instance, 2.1 and 2.9 are rounded down to 2)."
      ]
     },
     "metadata": {},
     "output_type": "display_data"
    }
   ],
   "source": [
    "# Check your answer (Run this code cell to receive credit!)\n",
    "q1.check()"
   ]
  },
  {
   "cell_type": "markdown",
   "id": "7f420f43",
   "metadata": {
    "papermill": {
     "duration": 0.004977,
     "end_time": "2025-02-25T20:51:58.816108",
     "exception": false,
     "start_time": "2025-02-25T20:51:58.811131",
     "status": "completed"
    },
    "tags": []
   },
   "source": [
    "# Question 2\n",
    "\n",
    "In the tutorial, you learned about booleans (which can take a value of `True` or `False`), in addition to integers, floats, and strings.  For this question, your goal is to determine what happens when you multiply a boolean by any of these data types.  Specifically, \n",
    "- What happens when you multiply an integer or float by `True`?  What happens when you multiply them by `False`?  How does the answer change if the numbers are positive or negative?\n",
    "- What happens when you multiply a string by `True`?  By `False`?\n",
    "\n",
    "Use the next code cell for your investigation. "
   ]
  },
  {
   "cell_type": "code",
   "execution_count": 5,
   "id": "92d63818",
   "metadata": {
    "execution": {
     "iopub.execute_input": "2025-02-25T20:51:58.827758Z",
     "iopub.status.busy": "2025-02-25T20:51:58.827391Z",
     "iopub.status.idle": "2025-02-25T20:51:58.833510Z",
     "shell.execute_reply": "2025-02-25T20:51:58.832266Z"
    },
    "papermill": {
     "duration": 0.013802,
     "end_time": "2025-02-25T20:51:58.835131",
     "exception": false,
     "start_time": "2025-02-25T20:51:58.821329",
     "status": "completed"
    },
    "tags": []
   },
   "outputs": [
    {
     "name": "stdout",
     "output_type": "stream",
     "text": [
      "3\n",
      "-3.1\n",
      "<class 'str'>\n",
      "0\n"
     ]
    }
   ],
   "source": [
    "# Uncomment and run this code to get started!\n",
    "print(3 * True)\n",
    "print(-3.1 * True)\n",
    "print(type(\"abc\" * False))\n",
    "print(len(\"abc\" * False))"
   ]
  },
  {
   "cell_type": "markdown",
   "id": "f82db0d3",
   "metadata": {
    "papermill": {
     "duration": 0.005008,
     "end_time": "2025-02-25T20:51:58.845701",
     "exception": false,
     "start_time": "2025-02-25T20:51:58.840693",
     "status": "completed"
    },
    "tags": []
   },
   "source": [
    "Once you have an answer, run the code cell below to see the solution.  Viewing the solution will give you credit for answering the problem."
   ]
  },
  {
   "cell_type": "code",
   "execution_count": 6,
   "id": "c3b9ed1e",
   "metadata": {
    "execution": {
     "iopub.execute_input": "2025-02-25T20:51:58.857381Z",
     "iopub.status.busy": "2025-02-25T20:51:58.857026Z",
     "iopub.status.idle": "2025-02-25T20:51:58.863766Z",
     "shell.execute_reply": "2025-02-25T20:51:58.862974Z"
    },
    "papermill": {
     "duration": 0.014279,
     "end_time": "2025-02-25T20:51:58.865203",
     "exception": false,
     "start_time": "2025-02-25T20:51:58.850924",
     "status": "completed"
    },
    "tags": []
   },
   "outputs": [
    {
     "data": {
      "application/javascript": [
       "parent.postMessage({\"jupyterEvent\": \"custom.exercise_interaction\", \"data\": {\"outcomeType\": 1, \"valueTowardsCompletion\": 0.2, \"interactionType\": 1, \"questionType\": 4, \"questionId\": \"2_MultiplyBooleans\", \"learnToolsVersion\": \"0.3.4\", \"failureMessage\": \"\", \"exceptionClass\": \"\", \"trace\": \"\"}}, \"*\")"
      ],
      "text/plain": [
       "<IPython.core.display.Javascript object>"
      ]
     },
     "metadata": {},
     "output_type": "display_data"
    },
    {
     "data": {
      "text/markdown": [
       "<span style=\"color:#33cc33\">Correct:</span> \n",
       "\n",
       "When you multiple an integer or float by a boolean with value `True`, it just returns that same integer or float (and is equivalent to multiplying by 1).  If you multiply an integer or float by a boolean with value `False`, it always returns 0.  This is true for both positive and negative numbers.  If you multiply a string by a boolean with value `True`, it just returns that same string.  And if you multiply a string by a boolean with value `False`, it returns an empty string (or a string with length zero)."
      ],
      "text/plain": [
       "Correct: \n",
       "\n",
       "When you multiple an integer or float by a boolean with value `True`, it just returns that same integer or float (and is equivalent to multiplying by 1).  If you multiply an integer or float by a boolean with value `False`, it always returns 0.  This is true for both positive and negative numbers.  If you multiply a string by a boolean with value `True`, it just returns that same string.  And if you multiply a string by a boolean with value `False`, it returns an empty string (or a string with length zero)."
      ]
     },
     "metadata": {},
     "output_type": "display_data"
    }
   ],
   "source": [
    "# Check your answer (Run this code cell to receive credit!)\n",
    "q2.check()"
   ]
  },
  {
   "cell_type": "markdown",
   "id": "ad91b10c",
   "metadata": {
    "papermill": {
     "duration": 0.00536,
     "end_time": "2025-02-25T20:51:58.876302",
     "exception": false,
     "start_time": "2025-02-25T20:51:58.870942",
     "status": "completed"
    },
    "tags": []
   },
   "source": [
    "# Question 3\n",
    "\n",
    "In this question, you will build off your work from the previous exercise to write a function that estimates the value of a house.\n",
    "\n",
    "Use the next code cell to create a function `get_expected_cost` that takes as input three variables:\n",
    "- `beds` - number of bedrooms (data type float)\n",
    "- `baths` - number of bathrooms (data type float)\n",
    "- `has_basement` - whether or not the house has a basement (data type boolean)\n",
    "\n",
    "It should return the expected cost of a house with those characteristics. Assume that:\n",
    "- the expected cost for a house with 0 bedrooms and 0 bathrooms, and no basement is 80000, \n",
    "- each bedroom adds 30000 to the expected cost,\n",
    "- each bathroom adds 10000 to the expected cost, and\n",
    "- a basement adds 40000 to the expected cost.\n",
    "\n",
    "For instance,\n",
    "- a house with 1 bedroom, 1 bathroom, and no basement has an expected cost of 80000 + 30000 + 10000 = 120000.  This value will be calculated with `get_expected_cost(1, 1, False)`.\n",
    "- a house with 2 bedrooms, 1 bathroom, and a basement has an expected cost of 80000 + 2*30000 + 10000 + 40000 = 190000.  This value will be calculated with `get_expected_cost(2, 1, True)`.\n",
    "\n",
    "Remember you can always get a hint by uncommenting `q3.hint()` in the code cell following the next!"
   ]
  },
  {
   "cell_type": "code",
   "execution_count": 7,
   "id": "ce6494e0",
   "metadata": {
    "execution": {
     "iopub.execute_input": "2025-02-25T20:51:58.888710Z",
     "iopub.status.busy": "2025-02-25T20:51:58.888359Z",
     "iopub.status.idle": "2025-02-25T20:51:58.896032Z",
     "shell.execute_reply": "2025-02-25T20:51:58.895184Z"
    },
    "papermill": {
     "duration": 0.015558,
     "end_time": "2025-02-25T20:51:58.897524",
     "exception": false,
     "start_time": "2025-02-25T20:51:58.881966",
     "status": "completed"
    },
    "tags": []
   },
   "outputs": [
    {
     "data": {
      "application/javascript": [
       "parent.postMessage({\"jupyterEvent\": \"custom.exercise_interaction\", \"data\": {\"outcomeType\": 1, \"valueTowardsCompletion\": 0.2, \"interactionType\": 1, \"questionType\": 2, \"questionId\": \"3_EstimateHouseValueBool\", \"learnToolsVersion\": \"0.3.4\", \"failureMessage\": \"\", \"exceptionClass\": \"\", \"trace\": \"\"}}, \"*\")"
      ],
      "text/plain": [
       "<IPython.core.display.Javascript object>"
      ]
     },
     "metadata": {},
     "output_type": "display_data"
    },
    {
     "data": {
      "text/markdown": [
       "<span style=\"color:#33cc33\">Correct</span>"
      ],
      "text/plain": [
       "Correct"
      ]
     },
     "metadata": {},
     "output_type": "display_data"
    }
   ],
   "source": [
    "# TODO: Complete the function\n",
    "def get_expected_cost(beds, baths, has_basement):\n",
    "    value = 80000 + beds*30000 + baths*10000 + has_basement*40000\n",
    "    return value\n",
    "\n",
    "# Check your answer \n",
    "q3.check()"
   ]
  },
  {
   "cell_type": "code",
   "execution_count": 8,
   "id": "71e13d0a",
   "metadata": {
    "execution": {
     "iopub.execute_input": "2025-02-25T20:51:58.910218Z",
     "iopub.status.busy": "2025-02-25T20:51:58.909899Z",
     "iopub.status.idle": "2025-02-25T20:51:58.913504Z",
     "shell.execute_reply": "2025-02-25T20:51:58.912564Z"
    },
    "papermill": {
     "duration": 0.011416,
     "end_time": "2025-02-25T20:51:58.914942",
     "exception": false,
     "start_time": "2025-02-25T20:51:58.903526",
     "status": "completed"
    },
    "tags": []
   },
   "outputs": [],
   "source": [
    "# Uncomment to see a hint\n",
    "#q3.hint()\n",
    "\n",
    "# Uncomment to view the solution\n",
    "#q3.solution()"
   ]
  },
  {
   "cell_type": "markdown",
   "id": "f2def29b",
   "metadata": {
    "papermill": {
     "duration": 0.005932,
     "end_time": "2025-02-25T20:51:58.926740",
     "exception": false,
     "start_time": "2025-02-25T20:51:58.920808",
     "status": "completed"
    },
    "tags": []
   },
   "source": [
    "# Question 4\n",
    "\n",
    "We'll continue our study of boolean arithmetic.  For this question, your task is to provide a description of what happpens when you add booleans. \n",
    "\n",
    "Use the next code cell for your investigation.  Feel free to add or remove any lines of code - use it as your workspace!"
   ]
  },
  {
   "cell_type": "code",
   "execution_count": 9,
   "id": "f5b71a31",
   "metadata": {
    "execution": {
     "iopub.execute_input": "2025-02-25T20:51:58.939856Z",
     "iopub.status.busy": "2025-02-25T20:51:58.939470Z",
     "iopub.status.idle": "2025-02-25T20:51:58.946110Z",
     "shell.execute_reply": "2025-02-25T20:51:58.945129Z"
    },
    "papermill": {
     "duration": 0.014673,
     "end_time": "2025-02-25T20:51:58.947447",
     "exception": false,
     "start_time": "2025-02-25T20:51:58.932774",
     "status": "completed"
    },
    "tags": []
   },
   "outputs": [
    {
     "name": "stdout",
     "output_type": "stream",
     "text": [
      "0\n",
      "1\n",
      "1\n",
      "2\n",
      "3\n",
      "abc\n",
      "\n"
     ]
    }
   ],
   "source": [
    "print(False + False)\n",
    "print(True + False)\n",
    "print(False + True)\n",
    "print(True + True)\n",
    "print(False + True + True + True)\n",
    "print(\"abc\" * True)\n",
    "print('abc' * False)"
   ]
  },
  {
   "cell_type": "markdown",
   "id": "5b9cc020",
   "metadata": {
    "papermill": {
     "duration": 0.005604,
     "end_time": "2025-02-25T20:51:58.958932",
     "exception": false,
     "start_time": "2025-02-25T20:51:58.953328",
     "status": "completed"
    },
    "tags": []
   },
   "source": [
    "Once you have an answer, run the code cell below to see the solution.  Viewing the solution will give you credit for answering the problem."
   ]
  },
  {
   "cell_type": "code",
   "execution_count": 10,
   "id": "93ff0b40",
   "metadata": {
    "execution": {
     "iopub.execute_input": "2025-02-25T20:51:58.971706Z",
     "iopub.status.busy": "2025-02-25T20:51:58.971403Z",
     "iopub.status.idle": "2025-02-25T20:51:58.977967Z",
     "shell.execute_reply": "2025-02-25T20:51:58.977146Z"
    },
    "papermill": {
     "duration": 0.014566,
     "end_time": "2025-02-25T20:51:58.979447",
     "exception": false,
     "start_time": "2025-02-25T20:51:58.964881",
     "status": "completed"
    },
    "tags": []
   },
   "outputs": [
    {
     "data": {
      "application/javascript": [
       "parent.postMessage({\"jupyterEvent\": \"custom.exercise_interaction\", \"data\": {\"outcomeType\": 1, \"valueTowardsCompletion\": 0.2, \"interactionType\": 1, \"questionType\": 4, \"questionId\": \"4_AddingBooleans\", \"learnToolsVersion\": \"0.3.4\", \"failureMessage\": \"\", \"exceptionClass\": \"\", \"trace\": \"\"}}, \"*\")"
      ],
      "text/plain": [
       "<IPython.core.display.Javascript object>"
      ]
     },
     "metadata": {},
     "output_type": "display_data"
    },
    {
     "data": {
      "text/markdown": [
       "<span style=\"color:#33cc33\">Correct:</span> \n",
       "\n",
       "When you add booleans, adding `False` is equivalent to adding 0, and adding `True` is equivalent to adding 1."
      ],
      "text/plain": [
       "Correct: \n",
       "\n",
       "When you add booleans, adding `False` is equivalent to adding 0, and adding `True` is equivalent to adding 1."
      ]
     },
     "metadata": {},
     "output_type": "display_data"
    }
   ],
   "source": [
    "# Check your answer (Run this code cell to receive credit!)\n",
    "q4.check()"
   ]
  },
  {
   "cell_type": "markdown",
   "id": "e05deb7f",
   "metadata": {
    "papermill": {
     "duration": 0.006114,
     "end_time": "2025-02-25T20:51:58.991545",
     "exception": false,
     "start_time": "2025-02-25T20:51:58.985431",
     "status": "completed"
    },
    "tags": []
   },
   "source": [
    "# 🌶️ Question 5\n",
    "\n",
    "You own an online shop where you sell rings with custom engravings.  You offer both gold plated and solid gold rings.\n",
    "- Gold plated rings have a base cost of \\\\$50, and you charge \\\\$7 per engraved unit.  \n",
    "- Solid gold rings have a base cost of \\\\$100, and you charge \\\\$10 per engraved unit.\n",
    "- Spaces and punctuation are counted as engraved units.\n",
    "\n",
    "Write a function `cost_of_project()` that takes two arguments:\n",
    "- `engraving` - a Python string with the text of the engraving\n",
    "- `solid_gold` - a Boolean that indicates whether the ring is solid gold\n",
    "\n",
    "It should return the cost of the project.  This question should be fairly challenging, and you may need a hint."
   ]
  },
  {
   "cell_type": "code",
   "execution_count": 11,
   "id": "39f63f37",
   "metadata": {
    "execution": {
     "iopub.execute_input": "2025-02-25T20:51:59.004719Z",
     "iopub.status.busy": "2025-02-25T20:51:59.004350Z",
     "iopub.status.idle": "2025-02-25T20:51:59.012089Z",
     "shell.execute_reply": "2025-02-25T20:51:59.011069Z"
    },
    "papermill": {
     "duration": 0.016106,
     "end_time": "2025-02-25T20:51:59.013671",
     "exception": false,
     "start_time": "2025-02-25T20:51:58.997565",
     "status": "completed"
    },
    "tags": []
   },
   "outputs": [
    {
     "data": {
      "application/javascript": [
       "parent.postMessage({\"jupyterEvent\": \"custom.exercise_interaction\", \"data\": {\"outcomeType\": 1, \"valueTowardsCompletion\": 0.2, \"interactionType\": 1, \"questionType\": 2, \"questionId\": \"5_CustomEngravings\", \"learnToolsVersion\": \"0.3.4\", \"failureMessage\": \"\", \"exceptionClass\": \"\", \"trace\": \"\"}}, \"*\")"
      ],
      "text/plain": [
       "<IPython.core.display.Javascript object>"
      ]
     },
     "metadata": {},
     "output_type": "display_data"
    },
    {
     "data": {
      "text/markdown": [
       "<span style=\"color:#33cc33\">Correct</span>"
      ],
      "text/plain": [
       "Correct"
      ]
     },
     "metadata": {},
     "output_type": "display_data"
    }
   ],
   "source": [
    "def cost_of_project(engraving, solid_gold):\n",
    " \n",
    "    # Cost of gold plated rings\n",
    "\n",
    "    plated_ring = (not solid_gold) * (50 + 7 * len(engraving))\n",
    "\n",
    "    # Cost of solid gold rings\n",
    "\n",
    "    solid_ring = solid_gold * (100 + 10 * len(engraving))\n",
    "    \n",
    "    cost = solid_ring + plated_ring\n",
    "    return cost\n",
    "\n",
    "# Check your answer\n",
    "q5.check()"
   ]
  },
  {
   "cell_type": "code",
   "execution_count": 12,
   "id": "106dc9fb",
   "metadata": {
    "execution": {
     "iopub.execute_input": "2025-02-25T20:51:59.027338Z",
     "iopub.status.busy": "2025-02-25T20:51:59.027004Z",
     "iopub.status.idle": "2025-02-25T20:51:59.030837Z",
     "shell.execute_reply": "2025-02-25T20:51:59.029714Z"
    },
    "papermill": {
     "duration": 0.012268,
     "end_time": "2025-02-25T20:51:59.032310",
     "exception": false,
     "start_time": "2025-02-25T20:51:59.020042",
     "status": "completed"
    },
    "tags": []
   },
   "outputs": [],
   "source": [
    "# Uncomment to see a hint\n",
    "#q5.hint()\n",
    "\n",
    "# Uncomment to view the solution\n",
    "#q5.solution()"
   ]
  },
  {
   "cell_type": "markdown",
   "id": "3ebe5f7c",
   "metadata": {
    "papermill": {
     "duration": 0.006147,
     "end_time": "2025-02-25T20:51:59.044975",
     "exception": false,
     "start_time": "2025-02-25T20:51:59.038828",
     "status": "completed"
    },
    "tags": []
   },
   "source": [
    "Run the next code cell to calculate the cost of engraving `Charlie+Denver` on a solid gold ring."
   ]
  },
  {
   "cell_type": "code",
   "execution_count": 13,
   "id": "54833357",
   "metadata": {
    "execution": {
     "iopub.execute_input": "2025-02-25T20:51:59.058804Z",
     "iopub.status.busy": "2025-02-25T20:51:59.058439Z",
     "iopub.status.idle": "2025-02-25T20:51:59.063180Z",
     "shell.execute_reply": "2025-02-25T20:51:59.062283Z"
    },
    "papermill": {
     "duration": 0.013384,
     "end_time": "2025-02-25T20:51:59.064620",
     "exception": false,
     "start_time": "2025-02-25T20:51:59.051236",
     "status": "completed"
    },
    "tags": []
   },
   "outputs": [
    {
     "name": "stdout",
     "output_type": "stream",
     "text": [
      "240\n"
     ]
    }
   ],
   "source": [
    "project_one = cost_of_project(\"Charlie+Denver\", True)\n",
    "print(project_one)"
   ]
  },
  {
   "cell_type": "markdown",
   "id": "70c8466f",
   "metadata": {
    "papermill": {
     "duration": 0.006049,
     "end_time": "2025-02-25T20:51:59.077103",
     "exception": false,
     "start_time": "2025-02-25T20:51:59.071054",
     "status": "completed"
    },
    "tags": []
   },
   "source": [
    "Use the next code cell to calculate the cost of engraving `08/10/2000` on a gold plated ring."
   ]
  },
  {
   "cell_type": "code",
   "execution_count": 14,
   "id": "91329e10",
   "metadata": {
    "execution": {
     "iopub.execute_input": "2025-02-25T20:51:59.090836Z",
     "iopub.status.busy": "2025-02-25T20:51:59.090460Z",
     "iopub.status.idle": "2025-02-25T20:51:59.095545Z",
     "shell.execute_reply": "2025-02-25T20:51:59.094326Z"
    },
    "papermill": {
     "duration": 0.014029,
     "end_time": "2025-02-25T20:51:59.097336",
     "exception": false,
     "start_time": "2025-02-25T20:51:59.083307",
     "status": "completed"
    },
    "tags": []
   },
   "outputs": [
    {
     "name": "stdout",
     "output_type": "stream",
     "text": [
      "120\n"
     ]
    }
   ],
   "source": [
    "project_two = cost_of_project(\"08/10/2000\", False)\n",
    "print(project_two)"
   ]
  },
  {
   "cell_type": "markdown",
   "id": "921fca2c",
   "metadata": {
    "papermill": {
     "duration": 0.005965,
     "end_time": "2025-02-25T20:51:59.109774",
     "exception": false,
     "start_time": "2025-02-25T20:51:59.103809",
     "status": "completed"
    },
    "tags": []
   },
   "source": [
    "# Keep going\n",
    "\n",
    "Continue to the next lesson to **[learn about conditions and conditional statements](https://www.kaggle.com/alexisbcook/conditions-and-conditional-statements)**."
   ]
  },
  {
   "cell_type": "markdown",
   "id": "0a498681",
   "metadata": {
    "papermill": {
     "duration": 0.005937,
     "end_time": "2025-02-25T20:51:59.121868",
     "exception": false,
     "start_time": "2025-02-25T20:51:59.115931",
     "status": "completed"
    },
    "tags": []
   },
   "source": [
    "---\n",
    "\n",
    "\n",
    "\n",
    "\n",
    "*Have questions or comments? Visit the [course discussion forum](https://www.kaggle.com/learn/intro-to-programming/discussion) to chat with other learners.*"
   ]
  }
 ],
 "metadata": {
  "kaggle": {
   "accelerator": "none",
   "dataSources": [],
   "isGpuEnabled": false,
   "isInternetEnabled": false,
   "language": "python",
   "sourceType": "notebook"
  },
  "kernelspec": {
   "display_name": "Python 3",
   "language": "python",
   "name": "python3"
  },
  "language_info": {
   "codemirror_mode": {
    "name": "ipython",
    "version": 3
   },
   "file_extension": ".py",
   "mimetype": "text/x-python",
   "name": "python",
   "nbconvert_exporter": "python",
   "pygments_lexer": "ipython3",
   "version": "3.10.12"
  },
  "papermill": {
   "default_parameters": {},
   "duration": 4.488746,
   "end_time": "2025-02-25T20:51:59.646711",
   "environment_variables": {},
   "exception": null,
   "input_path": "__notebook__.ipynb",
   "output_path": "__notebook__.ipynb",
   "parameters": {},
   "start_time": "2025-02-25T20:51:55.157965",
   "version": "2.3.3"
  }
 },
 "nbformat": 4,
 "nbformat_minor": 5
}
