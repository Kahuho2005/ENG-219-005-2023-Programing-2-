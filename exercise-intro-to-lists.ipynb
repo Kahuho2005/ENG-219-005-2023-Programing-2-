{
 "cells": [
  {
   "cell_type": "markdown",
   "id": "1274d606",
   "metadata": {
    "papermill": {
     "duration": 0.005519,
     "end_time": "2025-02-25T22:17:44.213893",
     "exception": false,
     "start_time": "2025-02-25T22:17:44.208374",
     "status": "completed"
    },
    "tags": []
   },
   "source": [
    "**This notebook is an exercise in the [Intro to Programming](https://www.kaggle.com/learn/intro-to-programming) course.  You can reference the tutorial at [this link](https://www.kaggle.com/alexisbcook/intro-to-lists).**\n",
    "\n",
    "---\n"
   ]
  },
  {
   "cell_type": "markdown",
   "id": "696621a9",
   "metadata": {
    "papermill": {
     "duration": 0.004583,
     "end_time": "2025-02-25T22:17:44.223428",
     "exception": false,
     "start_time": "2025-02-25T22:17:44.218845",
     "status": "completed"
    },
    "tags": []
   },
   "source": [
    "In the tutorial, you learned how to define and modify Python lists.  In this exercise, you will use your new knowledge to solve several problems.\n",
    "\n",
    "# Set up the notebook\n",
    "\n",
    "Run the next code cell without changes to set up the notebook."
   ]
  },
  {
   "cell_type": "code",
   "execution_count": 1,
   "id": "4d2c8317",
   "metadata": {
    "execution": {
     "iopub.execute_input": "2025-02-25T22:17:44.233981Z",
     "iopub.status.busy": "2025-02-25T22:17:44.233666Z",
     "iopub.status.idle": "2025-02-25T22:17:45.096760Z",
     "shell.execute_reply": "2025-02-25T22:17:45.095588Z"
    },
    "papermill": {
     "duration": 0.870397,
     "end_time": "2025-02-25T22:17:45.098564",
     "exception": false,
     "start_time": "2025-02-25T22:17:44.228167",
     "status": "completed"
    },
    "tags": []
   },
   "outputs": [
    {
     "name": "stdout",
     "output_type": "stream",
     "text": [
      "Setup complete.\n"
     ]
    }
   ],
   "source": [
    "from learntools.core import binder\n",
    "binder.bind(globals())\n",
    "from learntools.intro_to_programming.ex5 import *\n",
    "print('Setup complete.')"
   ]
  },
  {
   "cell_type": "markdown",
   "id": "c56c37c5",
   "metadata": {
    "papermill": {
     "duration": 0.005296,
     "end_time": "2025-02-25T22:17:45.109103",
     "exception": false,
     "start_time": "2025-02-25T22:17:45.103807",
     "status": "completed"
    },
    "tags": []
   },
   "source": [
    "# Question 1\n",
    "\n",
    "You own a restaurant with five food dishes, organized in the Python list `menu` below.  One day, you decide to:\n",
    "- remove bean soup (`'bean soup'`) from the menu, and\n",
    "- add roasted beet salad (`'roasted beet salad'`) to the menu.\n",
    "\n",
    "Implement this change to the list below.  While completing this task, \n",
    "- do not change the line that creates the `menu` list.  \n",
    "- your answer should use `.remove()` and `.append()`.  "
   ]
  },
  {
   "cell_type": "code",
   "execution_count": 2,
   "id": "26220326",
   "metadata": {
    "execution": {
     "iopub.execute_input": "2025-02-25T22:17:45.120583Z",
     "iopub.status.busy": "2025-02-25T22:17:45.120118Z",
     "iopub.status.idle": "2025-02-25T22:17:45.129246Z",
     "shell.execute_reply": "2025-02-25T22:17:45.128358Z"
    },
    "papermill": {
     "duration": 0.016631,
     "end_time": "2025-02-25T22:17:45.130820",
     "exception": false,
     "start_time": "2025-02-25T22:17:45.114189",
     "status": "completed"
    },
    "tags": []
   },
   "outputs": [
    {
     "name": "stdout",
     "output_type": "stream",
     "text": [
      "['stewed meat with onions', 'risotto with trout and shrimp', 'fish soup with cream and onion', 'gyro', 'roasted beet salad']\n"
     ]
    },
    {
     "data": {
      "application/javascript": [
       "parent.postMessage({\"jupyterEvent\": \"custom.exercise_interaction\", \"data\": {\"outcomeType\": 1, \"valueTowardsCompletion\": 0.2, \"interactionType\": 1, \"questionType\": 2, \"questionId\": \"1_FoodMenu\", \"learnToolsVersion\": \"0.3.4\", \"failureMessage\": \"\", \"exceptionClass\": \"\", \"trace\": \"\"}}, \"*\")"
      ],
      "text/plain": [
       "<IPython.core.display.Javascript object>"
      ]
     },
     "metadata": {},
     "output_type": "display_data"
    },
    {
     "data": {
      "text/markdown": [
       "<span style=\"color:#33cc33\">Correct</span>"
      ],
      "text/plain": [
       "Correct"
      ]
     },
     "metadata": {},
     "output_type": "display_data"
    }
   ],
   "source": [
    "# Do not change: Initial menu for your restaurant\n",
    "menu = ['stewed meat with onions', 'bean soup', 'risotto with trout and shrimp',\n",
    "       'fish soup with cream and onion', 'gyro']\n",
    "\n",
    "# TODO: remove 'bean soup', and add 'roasted beet salad' to the end of the menu\n",
    "menu.remove('bean soup') #Removing bean soup\n",
    "menu.append('roasted beet salad')\n",
    "print(menu)\n",
    "\n",
    "# Do not change: Check your answer\n",
    "q1.check()"
   ]
  },
  {
   "cell_type": "code",
   "execution_count": 3,
   "id": "e98e0974",
   "metadata": {
    "execution": {
     "iopub.execute_input": "2025-02-25T22:17:45.143564Z",
     "iopub.status.busy": "2025-02-25T22:17:45.143204Z",
     "iopub.status.idle": "2025-02-25T22:17:45.146983Z",
     "shell.execute_reply": "2025-02-25T22:17:45.146009Z"
    },
    "papermill": {
     "duration": 0.012313,
     "end_time": "2025-02-25T22:17:45.148599",
     "exception": false,
     "start_time": "2025-02-25T22:17:45.136286",
     "status": "completed"
    },
    "tags": []
   },
   "outputs": [],
   "source": [
    "# Uncomment to see a hint\n",
    "#q1.hint()\n",
    "\n",
    "# Uncomment to see the solution\n",
    "#q1.solution()"
   ]
  },
  {
   "cell_type": "markdown",
   "id": "6f307a61",
   "metadata": {
    "papermill": {
     "duration": 0.005314,
     "end_time": "2025-02-25T22:17:45.159674",
     "exception": false,
     "start_time": "2025-02-25T22:17:45.154360",
     "status": "completed"
    },
    "tags": []
   },
   "source": [
    "# Question 2\n",
    "\n",
    "The list `num_customers` contains the number of customers who came into your restaurant every day over the last month (which lasted thirty days).  Fill in values for each of the following:\n",
    "- `avg_first_seven` - average number of customers who visited in the first seven days\n",
    "- `avg_last_seven` - average number of customers who visited in the last seven days\n",
    "- `max_month` - number of customers on the day that got the most customers in the last month\n",
    "- `min_month` - number of customers on the day that got the least customers in the last month\n",
    "\n",
    "Answer this question by writing code.  For instance, if you have to find the minimum value in a list, use `min()` instead of scanning for the smallest value and directly filling in a number."
   ]
  },
  {
   "cell_type": "code",
   "execution_count": 4,
   "id": "f1d5fe04",
   "metadata": {
    "execution": {
     "iopub.execute_input": "2025-02-25T22:17:45.171686Z",
     "iopub.status.busy": "2025-02-25T22:17:45.171346Z",
     "iopub.status.idle": "2025-02-25T22:17:45.179380Z",
     "shell.execute_reply": "2025-02-25T22:17:45.178506Z"
    },
    "papermill": {
     "duration": 0.015745,
     "end_time": "2025-02-25T22:17:45.180933",
     "exception": false,
     "start_time": "2025-02-25T22:17:45.165188",
     "status": "completed"
    },
    "tags": []
   },
   "outputs": [
    {
     "data": {
      "application/javascript": [
       "parent.postMessage({\"jupyterEvent\": \"custom.exercise_interaction\", \"data\": {\"outcomeType\": 1, \"valueTowardsCompletion\": 0.2, \"interactionType\": 1, \"questionType\": 1, \"questionId\": \"2_NumCustomers\", \"learnToolsVersion\": \"0.3.4\", \"failureMessage\": \"\", \"exceptionClass\": \"\", \"trace\": \"\"}}, \"*\")"
      ],
      "text/plain": [
       "<IPython.core.display.Javascript object>"
      ]
     },
     "metadata": {},
     "output_type": "display_data"
    },
    {
     "data": {
      "text/markdown": [
       "<span style=\"color:#33cc33\">Correct</span>"
      ],
      "text/plain": [
       "Correct"
      ]
     },
     "metadata": {},
     "output_type": "display_data"
    }
   ],
   "source": [
    "# Do not change: Number of customers each day for the last month\n",
    "num_customers = [137, 147, 135, 128, 170, 174, 165, 146, 126, 159,\n",
    "                 141, 148, 132, 147, 168, 153, 170, 161, 148, 152,\n",
    "                 141, 151, 131, 149, 164, 163, 143, 143, 166, 171]\n",
    "\n",
    "# TODO: Fill in values for the variables below\n",
    "avg_first_seven = sum(num_customers[:7]) / 7\n",
    "avg_last_seven = sum(num_customers[-7:]) / 7\n",
    "max_month = max(num_customers)\n",
    "min_month = min(num_customers)\n",
    "\n",
    "\n",
    "# Do not change: Check your answer\n",
    "q2.check()"
   ]
  },
  {
   "cell_type": "code",
   "execution_count": 5,
   "id": "12db48dc",
   "metadata": {
    "execution": {
     "iopub.execute_input": "2025-02-25T22:17:45.193556Z",
     "iopub.status.busy": "2025-02-25T22:17:45.193219Z",
     "iopub.status.idle": "2025-02-25T22:17:45.196681Z",
     "shell.execute_reply": "2025-02-25T22:17:45.195875Z"
    },
    "papermill": {
     "duration": 0.011284,
     "end_time": "2025-02-25T22:17:45.198138",
     "exception": false,
     "start_time": "2025-02-25T22:17:45.186854",
     "status": "completed"
    },
    "tags": []
   },
   "outputs": [],
   "source": [
    "# Uncomment to see a hint\n",
    "#q2.hint()\n",
    "\n",
    "# Uncomment to see the solution\n",
    "#q2.solution()"
   ]
  },
  {
   "cell_type": "markdown",
   "id": "5c1d3927",
   "metadata": {
    "papermill": {
     "duration": 0.005375,
     "end_time": "2025-02-25T22:17:45.209124",
     "exception": false,
     "start_time": "2025-02-25T22:17:45.203749",
     "status": "completed"
    },
    "tags": []
   },
   "source": [
    "# Question 3\n",
    "\n",
    "In the tutorial, we gave an example of a Python string with information that was better as a list."
   ]
  },
  {
   "cell_type": "code",
   "execution_count": 6,
   "id": "35eef3be",
   "metadata": {
    "execution": {
     "iopub.execute_input": "2025-02-25T22:17:45.221213Z",
     "iopub.status.busy": "2025-02-25T22:17:45.220847Z",
     "iopub.status.idle": "2025-02-25T22:17:45.225343Z",
     "shell.execute_reply": "2025-02-25T22:17:45.224042Z"
    },
    "papermill": {
     "duration": 0.01235,
     "end_time": "2025-02-25T22:17:45.226905",
     "exception": false,
     "start_time": "2025-02-25T22:17:45.214555",
     "status": "completed"
    },
    "tags": []
   },
   "outputs": [],
   "source": [
    "flowers = \"pink primrose,hard-leaved pocket orchid,canterbury bells,sweet pea,english marigold,tiger lily,moon orchid,bird of paradise,monkshood,globe thistle\""
   ]
  },
  {
   "cell_type": "markdown",
   "id": "53cc384f",
   "metadata": {
    "papermill": {
     "duration": 0.005198,
     "end_time": "2025-02-25T22:17:45.237775",
     "exception": false,
     "start_time": "2025-02-25T22:17:45.232577",
     "status": "completed"
    },
    "tags": []
   },
   "source": [
    "You can actually use Python to quickly turn this string into a list with `.split()`.  In the parentheses, we need to provide the character should be used to mark the end of one list item and the beginning of another, and enclose it in quotation marks.  In this case, that character is a comma."
   ]
  },
  {
   "cell_type": "code",
   "execution_count": 7,
   "id": "52af6dce",
   "metadata": {
    "execution": {
     "iopub.execute_input": "2025-02-25T22:17:45.249803Z",
     "iopub.status.busy": "2025-02-25T22:17:45.249441Z",
     "iopub.status.idle": "2025-02-25T22:17:45.253723Z",
     "shell.execute_reply": "2025-02-25T22:17:45.252692Z"
    },
    "papermill": {
     "duration": 0.01231,
     "end_time": "2025-02-25T22:17:45.255485",
     "exception": false,
     "start_time": "2025-02-25T22:17:45.243175",
     "status": "completed"
    },
    "tags": []
   },
   "outputs": [
    {
     "name": "stdout",
     "output_type": "stream",
     "text": [
      "['pink primrose', 'hard-leaved pocket orchid', 'canterbury bells', 'sweet pea', 'english marigold', 'tiger lily', 'moon orchid', 'bird of paradise', 'monkshood', 'globe thistle']\n"
     ]
    }
   ],
   "source": [
    " print(flowers.split(\",\"))"
   ]
  },
  {
   "cell_type": "markdown",
   "id": "19c95cb3",
   "metadata": {
    "papermill": {
     "duration": 0.005539,
     "end_time": "2025-02-25T22:17:45.266758",
     "exception": false,
     "start_time": "2025-02-25T22:17:45.261219",
     "status": "completed"
    },
    "tags": []
   },
   "source": [
    "Now it is your turn to try this out!  Create two Python lists:\n",
    "- `letters` should be a Python list where each entry is an uppercase letter of the English alphabet.  For instance, the first two entries should be `\"A\"` and `\"B\"`, and the final two entries should be `\"Y\"` and `\"Z\"`.  Use the string `alphabet` to create this list.\n",
    "- `address` should be a Python list where each row in `address` is a different item in the list.  Currently, each row in `address` is separated by a comma. "
   ]
  },
  {
   "cell_type": "code",
   "execution_count": 8,
   "id": "3f088f05",
   "metadata": {
    "execution": {
     "iopub.execute_input": "2025-02-25T22:17:45.279491Z",
     "iopub.status.busy": "2025-02-25T22:17:45.279151Z",
     "iopub.status.idle": "2025-02-25T22:17:45.286649Z",
     "shell.execute_reply": "2025-02-25T22:17:45.285792Z"
    },
    "papermill": {
     "duration": 0.015631,
     "end_time": "2025-02-25T22:17:45.288046",
     "exception": false,
     "start_time": "2025-02-25T22:17:45.272415",
     "status": "completed"
    },
    "tags": []
   },
   "outputs": [
    {
     "data": {
      "application/javascript": [
       "parent.postMessage({\"jupyterEvent\": \"custom.exercise_interaction\", \"data\": {\"outcomeType\": 1, \"valueTowardsCompletion\": 0.2, \"interactionType\": 1, \"questionType\": 1, \"questionId\": \"3_SplitString\", \"learnToolsVersion\": \"0.3.4\", \"failureMessage\": \"\", \"exceptionClass\": \"\", \"trace\": \"\"}}, \"*\")"
      ],
      "text/plain": [
       "<IPython.core.display.Javascript object>"
      ]
     },
     "metadata": {},
     "output_type": "display_data"
    },
    {
     "data": {
      "text/markdown": [
       "<span style=\"color:#33cc33\">Correct</span>"
      ],
      "text/plain": [
       "Correct"
      ]
     },
     "metadata": {},
     "output_type": "display_data"
    }
   ],
   "source": [
    "# DO not change: Define two Python strings\n",
    "alphabet = \"A.B.C.D.E.F.G.H.I.J.K.L.M.N.O.P.Q.R.S.T.U.V.W.X.Y.Z\"\n",
    "address = \"Mr. H. Potter,The cupboard under the Stairs,4 Privet Drive,Little Whinging,Surrey\"\n",
    "\n",
    "# TODO: Convert strings into Python lists\n",
    "letters = alphabet.split('.')\n",
    "formatted_address = address.split(',')\n",
    "\n",
    "# Do not change: Check your answer\n",
    "q3.check()"
   ]
  },
  {
   "cell_type": "code",
   "execution_count": 9,
   "id": "614fa707",
   "metadata": {
    "execution": {
     "iopub.execute_input": "2025-02-25T22:17:45.301400Z",
     "iopub.status.busy": "2025-02-25T22:17:45.300988Z",
     "iopub.status.idle": "2025-02-25T22:17:45.304671Z",
     "shell.execute_reply": "2025-02-25T22:17:45.303601Z"
    },
    "papermill": {
     "duration": 0.012115,
     "end_time": "2025-02-25T22:17:45.306341",
     "exception": false,
     "start_time": "2025-02-25T22:17:45.294226",
     "status": "completed"
    },
    "tags": []
   },
   "outputs": [],
   "source": [
    "# Uncomment to see a hint\n",
    "#q3.hint()\n",
    "\n",
    "# Uncomment to see the solution\n",
    "#q3.solution()"
   ]
  },
  {
   "cell_type": "markdown",
   "id": "240411a2",
   "metadata": {
    "papermill": {
     "duration": 0.005422,
     "end_time": "2025-02-25T22:17:45.317686",
     "exception": false,
     "start_time": "2025-02-25T22:17:45.312264",
     "status": "completed"
    },
    "tags": []
   },
   "source": [
    "# Question 4\n",
    "\n",
    "In the Python course, you'll learn all about **list comprehensions**, which allow you to create a list based on the values in another list.  In this question, you'll get a brief preview of how they work.\n",
    "\n",
    "Say we're working with the list below."
   ]
  },
  {
   "cell_type": "code",
   "execution_count": 10,
   "id": "ed645f84",
   "metadata": {
    "execution": {
     "iopub.execute_input": "2025-02-25T22:17:45.330475Z",
     "iopub.status.busy": "2025-02-25T22:17:45.330156Z",
     "iopub.status.idle": "2025-02-25T22:17:45.333930Z",
     "shell.execute_reply": "2025-02-25T22:17:45.333113Z"
    },
    "papermill": {
     "duration": 0.012088,
     "end_time": "2025-02-25T22:17:45.335405",
     "exception": false,
     "start_time": "2025-02-25T22:17:45.323317",
     "status": "completed"
    },
    "tags": []
   },
   "outputs": [],
   "source": [
    "test_ratings = [1, 2, 3, 4, 5]"
   ]
  },
  {
   "cell_type": "markdown",
   "id": "3a530c54",
   "metadata": {
    "papermill": {
     "duration": 0.005375,
     "end_time": "2025-02-25T22:17:45.346736",
     "exception": false,
     "start_time": "2025-02-25T22:17:45.341361",
     "status": "completed"
    },
    "tags": []
   },
   "source": [
    "Then we can use this list (`test_ratings`) to create a new list (`test_liked`) where each item has been turned into a boolean, depending on whether or not the item is greater than or equal to four."
   ]
  },
  {
   "cell_type": "code",
   "execution_count": 11,
   "id": "4906ec31",
   "metadata": {
    "execution": {
     "iopub.execute_input": "2025-02-25T22:17:45.359251Z",
     "iopub.status.busy": "2025-02-25T22:17:45.358895Z",
     "iopub.status.idle": "2025-02-25T22:17:45.363688Z",
     "shell.execute_reply": "2025-02-25T22:17:45.362684Z"
    },
    "papermill": {
     "duration": 0.012805,
     "end_time": "2025-02-25T22:17:45.365198",
     "exception": false,
     "start_time": "2025-02-25T22:17:45.352393",
     "status": "completed"
    },
    "tags": []
   },
   "outputs": [
    {
     "name": "stdout",
     "output_type": "stream",
     "text": [
      "[False, False, False, True, True]\n"
     ]
    }
   ],
   "source": [
    "test_liked = [i>=4 for i in test_ratings]\n",
    "print(test_liked)"
   ]
  },
  {
   "cell_type": "markdown",
   "id": "172e059e",
   "metadata": {
    "papermill": {
     "duration": 0.005404,
     "end_time": "2025-02-25T22:17:45.376418",
     "exception": false,
     "start_time": "2025-02-25T22:17:45.371014",
     "status": "completed"
    },
    "tags": []
   },
   "source": [
    "In this question, you'll use this list comprehension to define a function `percentage_liked()` that takes one argument as input:\n",
    "- `ratings`: list of ratings that people gave to a movie, where each rating is a number between 1-5, inclusive\n",
    "\n",
    "We say someone liked the movie, if they gave a rating of either 4 or 5.  Your function should return the percentage of people who liked the movie.\n",
    "\n",
    "For instance, if we supply a value of `[1, 2, 3, 4, 5, 4, 5, 1]`, then 50% (4/8) of the people liked the movie, and the function should return `0.5`.\n",
    "\n",
    "Part of the function has already been completed for you.  You need only use `list_liked` to calculate `percentage_liked`."
   ]
  },
  {
   "cell_type": "code",
   "execution_count": 12,
   "id": "f7be20b4",
   "metadata": {
    "execution": {
     "iopub.execute_input": "2025-02-25T22:17:45.389007Z",
     "iopub.status.busy": "2025-02-25T22:17:45.388691Z",
     "iopub.status.idle": "2025-02-25T22:17:45.396313Z",
     "shell.execute_reply": "2025-02-25T22:17:45.395383Z"
    },
    "papermill": {
     "duration": 0.015678,
     "end_time": "2025-02-25T22:17:45.397806",
     "exception": false,
     "start_time": "2025-02-25T22:17:45.382128",
     "status": "completed"
    },
    "tags": []
   },
   "outputs": [
    {
     "data": {
      "application/javascript": [
       "parent.postMessage({\"jupyterEvent\": \"custom.exercise_interaction\", \"data\": {\"outcomeType\": 1, \"valueTowardsCompletion\": 0.2, \"interactionType\": 1, \"questionType\": 2, \"questionId\": \"4_PercentageLiked\", \"learnToolsVersion\": \"0.3.4\", \"failureMessage\": \"\", \"exceptionClass\": \"\", \"trace\": \"\"}}, \"*\")"
      ],
      "text/plain": [
       "<IPython.core.display.Javascript object>"
      ]
     },
     "metadata": {},
     "output_type": "display_data"
    },
    {
     "data": {
      "text/markdown": [
       "<span style=\"color:#33cc33\">Correct</span>"
      ],
      "text/plain": [
       "Correct"
      ]
     },
     "metadata": {},
     "output_type": "display_data"
    }
   ],
   "source": [
    "def percentage_liked(ratings):\n",
    "    list_liked = [i>=4 for i in ratings]\n",
    "    # TODO: Complete the function\n",
    "    percentage_liked = sum(list_liked) / len(list_liked)\n",
    "    return percentage_liked\n",
    "\n",
    "# Do not change: should return 0.5\n",
    "percentage_liked([1, 2, 3, 4, 5, 4, 5, 1])\n",
    "\n",
    "# Do not change: Check your answer\n",
    "q4.check()"
   ]
  },
  {
   "cell_type": "code",
   "execution_count": 13,
   "id": "bcda4b00",
   "metadata": {
    "execution": {
     "iopub.execute_input": "2025-02-25T22:17:45.411187Z",
     "iopub.status.busy": "2025-02-25T22:17:45.410823Z",
     "iopub.status.idle": "2025-02-25T22:17:45.415333Z",
     "shell.execute_reply": "2025-02-25T22:17:45.414252Z"
    },
    "papermill": {
     "duration": 0.013079,
     "end_time": "2025-02-25T22:17:45.416984",
     "exception": false,
     "start_time": "2025-02-25T22:17:45.403905",
     "status": "completed"
    },
    "tags": []
   },
   "outputs": [],
   "source": [
    "# Uncomment to see a hint\n",
    "#q4.hint()\n",
    "\n",
    "# Uncomment to see the solution\n",
    "#q4.solution()"
   ]
  },
  {
   "cell_type": "markdown",
   "id": "48963b31",
   "metadata": {
    "papermill": {
     "duration": 0.00573,
     "end_time": "2025-02-25T22:17:45.428949",
     "exception": false,
     "start_time": "2025-02-25T22:17:45.423219",
     "status": "completed"
    },
    "tags": []
   },
   "source": [
    "# 🌶️ Question 5\n",
    " \n",
    "Say you're doing analytics for a website.  You need to write a function that returns the percentage growth in the total number of users relative to a specified number of years ago.\n",
    "\n",
    "Your function `percentage_growth()` should take two arguments as input:\n",
    "- `num_users` = Python list with the total number of users each year.  So `num_users[0]` is the total number of users in the first year, `num_users[1]` is the total number of users in the second year, and so on.  The final entry in the list gives the total number of users in the most recently completed year.\n",
    "- `yrs_ago` = number of years to go back in time when calculating the growth percentage\n",
    "\n",
    "For instance, say `num_users = [920344, 1043553, 1204334, 1458996, 1503323, 1593432, 1623463, 1843064, 1930992, 2001078]`.\n",
    "- if `yrs_ago = 1`, we want the function to return a value of about `0.036`. This corresponds to a percentage growth of approximately 3.6%, calculated as (2001078 - 1930992)/1930992.\n",
    "- if `years_ago = 7`, we would want to return approximately `0.66`.  This corresponds to a percentage growth of approximately 66%, calculated as (2001078 - 1204334)/1204334.\n",
    "\n",
    "Your coworker sent you a draft of a function, but it doesn't seem to be doing the correct calculation.  Can you figure out what has gone wrong and make the needed changes?"
   ]
  },
  {
   "cell_type": "code",
   "execution_count": 14,
   "id": "f9b41d45",
   "metadata": {
    "execution": {
     "iopub.execute_input": "2025-02-25T22:17:45.441868Z",
     "iopub.status.busy": "2025-02-25T22:17:45.441544Z",
     "iopub.status.idle": "2025-02-25T22:17:45.451122Z",
     "shell.execute_reply": "2025-02-25T22:17:45.450305Z"
    },
    "papermill": {
     "duration": 0.017857,
     "end_time": "2025-02-25T22:17:45.452701",
     "exception": false,
     "start_time": "2025-02-25T22:17:45.434844",
     "status": "completed"
    },
    "tags": []
   },
   "outputs": [
    {
     "name": "stdout",
     "output_type": "stream",
     "text": [
      "0.03629533421163837\n",
      "0.6615639847417742\n"
     ]
    },
    {
     "data": {
      "application/javascript": [
       "parent.postMessage({\"jupyterEvent\": \"custom.exercise_interaction\", \"data\": {\"outcomeType\": 1, \"valueTowardsCompletion\": 0.2, \"interactionType\": 1, \"questionType\": 2, \"questionId\": \"5_WebsiteAnalytics\", \"learnToolsVersion\": \"0.3.4\", \"failureMessage\": \"\", \"exceptionClass\": \"\", \"trace\": \"\"}}, \"*\")"
      ],
      "text/plain": [
       "<IPython.core.display.Javascript object>"
      ]
     },
     "metadata": {},
     "output_type": "display_data"
    },
    {
     "data": {
      "text/markdown": [
       "<span style=\"color:#33cc33\">Correct</span>"
      ],
      "text/plain": [
       "Correct"
      ]
     },
     "metadata": {},
     "output_type": "display_data"
    }
   ],
   "source": [
    "# TODO: Edit the function\n",
    "def percentage_growth(num_users, yrs_ago):\n",
    "    growth = (num_users[len(num_users)-1] - num_users[len(num_users)-yrs_ago-1])/num_users[len(num_users)-yrs_ago-1]\n",
    "    return growth\n",
    "\n",
    "# Do not change: Variable for calculating some test examples\n",
    "num_users_test = [920344, 1043553, 1204334, 1458996, 1503323, 1593432, 1623463, 1843064, 1930992, 2001078]\n",
    "\n",
    "# Do not change: Should return .036\n",
    "print(percentage_growth(num_users_test, 1))\n",
    "\n",
    "# Do not change: Should return 0.66\n",
    "print(percentage_growth(num_users_test, 7))\n",
    "\n",
    "# Do not change: Check your answer\n",
    "q5.check()"
   ]
  },
  {
   "cell_type": "code",
   "execution_count": 15,
   "id": "a63bf177",
   "metadata": {
    "execution": {
     "iopub.execute_input": "2025-02-25T22:17:45.466341Z",
     "iopub.status.busy": "2025-02-25T22:17:45.465946Z",
     "iopub.status.idle": "2025-02-25T22:17:45.469725Z",
     "shell.execute_reply": "2025-02-25T22:17:45.468625Z"
    },
    "papermill": {
     "duration": 0.012645,
     "end_time": "2025-02-25T22:17:45.471608",
     "exception": false,
     "start_time": "2025-02-25T22:17:45.458963",
     "status": "completed"
    },
    "tags": []
   },
   "outputs": [],
   "source": [
    "# Uncomment to see a hint\n",
    "#q5.hint()\n",
    "\n",
    "# Uncomment to see the solution\n",
    "#q5.solution()"
   ]
  },
  {
   "cell_type": "markdown",
   "id": "4571f649",
   "metadata": {
    "papermill": {
     "duration": 0.005994,
     "end_time": "2025-02-25T22:17:45.483979",
     "exception": false,
     "start_time": "2025-02-25T22:17:45.477985",
     "status": "completed"
    },
    "tags": []
   },
   "source": [
    "# Congratulations!\n",
    "\n",
    "Congratulations for finishing the Intro to Programming course!  You should be proud of your very first steps with learning programming.  As next steps, we recommend taking:\n",
    "- the **[Python course](http://www.kaggle.com/learn/python)**, and \n",
    "- the **[Intro to Machine Learning course](https://www.kaggle.com/learn/intro-to-machine-learning)**."
   ]
  },
  {
   "cell_type": "markdown",
   "id": "aae87d11",
   "metadata": {
    "papermill": {
     "duration": 0.005803,
     "end_time": "2025-02-25T22:17:45.495915",
     "exception": false,
     "start_time": "2025-02-25T22:17:45.490112",
     "status": "completed"
    },
    "tags": []
   },
   "source": [
    "---\n",
    "\n",
    "\n",
    "\n",
    "\n",
    "*Have questions or comments? Visit the [course discussion forum](https://www.kaggle.com/learn/intro-to-programming/discussion) to chat with other learners.*"
   ]
  }
 ],
 "metadata": {
  "kaggle": {
   "accelerator": "none",
   "dataSources": [],
   "isGpuEnabled": false,
   "isInternetEnabled": false,
   "language": "python",
   "sourceType": "notebook"
  },
  "kernelspec": {
   "display_name": "Python 3",
   "language": "python",
   "name": "python3"
  },
  "language_info": {
   "codemirror_mode": {
    "name": "ipython",
    "version": 3
   },
   "file_extension": ".py",
   "mimetype": "text/x-python",
   "name": "python",
   "nbconvert_exporter": "python",
   "pygments_lexer": "ipython3",
   "version": "3.10.12"
  },
  "papermill": {
   "default_parameters": {},
   "duration": 4.506092,
   "end_time": "2025-02-25T22:17:46.021264",
   "environment_variables": {},
   "exception": null,
   "input_path": "__notebook__.ipynb",
   "output_path": "__notebook__.ipynb",
   "parameters": {},
   "start_time": "2025-02-25T22:17:41.515172",
   "version": "2.6.0"
  }
 },
 "nbformat": 4,
 "nbformat_minor": 5
}
